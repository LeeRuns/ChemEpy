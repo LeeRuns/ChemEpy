{
 "cells": [
  {
   "cell_type": "markdown",
   "metadata": {
    "collapsed": true
   },
   "source": [
    "# Distillation Prelab\n",
    "Lee Runyon\n",
    "CBE Lab I\n",
    "### Base Equations\n",
    "mass balances, energy balances, and special equations\n",
    "#### Molar Flow Balance\n",
    "$n_{feed}=n_{distillate}n_{bottoms}$"
   ]
  },
  {
   "cell_type": "code",
   "execution_count": 2,
   "metadata": {
    "collapsed": true
   },
   "outputs": [],
   "source": [
    "import numpy as np\n",
    "\n",
    "def bubble_pt_RaoultsLaw(T):\n",
    "    (VP_a)=np.exp(A_a-B_a/(T+C_a))\n",
    "    (VP_b)=np.exp(A_b-B_b/(T+C_b))\n",
    "    P_bubble=za*VP_a+zb*VP_b\n",
    "    "
   ]
  },
  {
   "cell_type": "markdown",
   "metadata": {},
   "source": [
    "ref: https://en.wikibooks.org/wiki/Introduction_to_Chemical_Engineering_Processes/Vapor-Liquid_equilibrium\n",
    "ref: http://www.eng.auburn.edu/~drmills/mans486/Diffusion%20Tube/Antoine_coefficient_table.PDF"
   ]
  },
  {
   "cell_type": "code",
   "execution_count": 15,
   "metadata": {
    "collapsed": false
   },
   "outputs": [
    {
     "ename": "SyntaxError",
     "evalue": "invalid syntax (<ipython-input-15-8edcc77ab0b8>, line 13)",
     "output_type": "error",
     "traceback": [
      "\u001b[0;36m  File \u001b[0;32m\"<ipython-input-15-8edcc77ab0b8>\"\u001b[0;36m, line \u001b[0;32m13\u001b[0m\n\u001b[0;31m    def VLE(P,PA,PB,)\u001b[0m\n\u001b[0m                     ^\u001b[0m\n\u001b[0;31mSyntaxError\u001b[0m\u001b[0;31m:\u001b[0m invalid syntax\n"
     ]
    }
   ],
   "source": [
    "A_ipa=4.57795\n",
    "B_ipa=1221.423\n",
    "C_ipa=-87.474\n",
    "  \n",
    "A_water=4.6543\n",
    "B_water=1435.264\n",
    "C_water=-64.848\n",
    "\n",
    "#bubble point equation combined\n",
    "import sympy as sympy\n",
    "import scipy as scipy\n",
    "P,PA,PB,yA,yB=sympy.Symbols('P PA PB yA yB')\n",
    "def VLE(P,PA,PB)\n",
    "    return P-ya*\n",
    "for T in range(255,375):\n",
    "    P=0.9\n",
    "    PA=10**(Aipa-Bipa/(Cipa+T))#VP_ipa\n",
    "    PB=10**(Awater-Bwater/(Cwater+T)#VP_h20\n",
    "    sol,=fsolve(lamda:(yA / PA*(T) + yB / PB*(T)  - 1/P),[yA,yb]) "
   ]
  },
  {
   "cell_type": "code",
   "execution_count": null,
   "metadata": {
    "collapsed": true
   },
   "outputs": [],
   "source": [
    "#124 C3H8O isopropyl-alcohol 8.11820 1580.920 219.620 \n",
    "from scipy.optimize import fsolve\n",
    "import numpy as np\n",
    "\n",
    "\n",
    "sol, = fsolve(lambda x: func(x, 3.2), 3)\n",
    "print sol"
   ]
  }
 ],
 "metadata": {
  "anaconda-cloud": {},
  "kernelspec": {
   "display_name": "Python [conda env:liquidsteam]",
   "language": "python",
   "name": "conda-env-liquidsteam-py"
  },
  "language_info": {
   "codemirror_mode": {
    "name": "ipython",
    "version": 3
   },
   "file_extension": ".py",
   "mimetype": "text/x-python",
   "name": "python",
   "nbconvert_exporter": "python",
   "pygments_lexer": "ipython3",
   "version": "3.5.2"
  }
 },
 "nbformat": 4,
 "nbformat_minor": 1
}
