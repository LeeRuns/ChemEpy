{
 "cells": [
  {
   "cell_type": "markdown",
   "metadata": {},
   "source": [
    "# Adsorption Isotherms Prelab\n",
    "Keith Runyon"
   ]
  },
  {
   "cell_type": "markdown",
   "metadata": {
    "collapsed": true
   },
   "source": [
    "1.\tSolutions of hemoglobin in a buffer of 0.1 M Tris-HCl (pH = 8.1) were prepared by mixing protein stock solution with a concentration of 20 mg Hb/ml with pure buffer.  The absorbance at a wavelength of 240 nm was then measured as a function of concentration.\n",
    "\n",
    "Using the data recorded below, complete the table and develop a calibration equation that gives the hemoglobin concentration in mg/ml as a function of absorbance."
   ]
  },
  {
   "cell_type": "code",
   "execution_count": 1,
   "metadata": {
    "collapsed": false
   },
   "outputs": [
    {
     "name": "stdout",
     "output_type": "stream",
     "text": [
      "for CalCurve Sample 0 concentration of Hb is 0.0 mg/l\n",
      "for CalCurve Sample 1 concentration of Hb is 4.0 mg/l\n",
      "for CalCurve Sample 2 concentration of Hb is 8.0 mg/l\n",
      "for CalCurve Sample 3 concentration of Hb is 12.0 mg/l\n",
      "for CalCurve Sample 4 concentration of Hb is 16.0 mg/l\n",
      "for CalCurve Sample 5 concentration of Hb is 20.0 mg/l\n"
     ]
    }
   ],
   "source": [
    "v_hb=[0,0.2,0.4,0.6,0.8,1]\n",
    "v_buffer=[1,0.8,0.6,0.4,0.2,0]\n",
    "c_hb_curve=[]\n",
    "c_stock=20 #[mg/L]\n",
    "\n",
    "molarity_buffer=0.1 #mol/L\n",
    "MW_buffer=157.594 #g/mol\n",
    "c_buffer=MW_buffer*molarity_buffer\n",
    "\n",
    "sampleid=[]\n",
    "for i in range(len(v_hb)):\n",
    "    sampleid.append('CalCurve Sample {}'.format(i))\n",
    "    c_hb_curve.append(v_hb[i]*c_stock/(v_buffer[i]+v_hb[i]))\n",
    "    print('for {} concentration of Hb is {} mg/l'.format(sampleid[i],c_hb_curve[i],))  "
   ]
  },
  {
   "cell_type": "markdown",
   "metadata": {},
   "source": [
    "### Develop Calibration Curve\n",
    "Applying Beer's law we can setup a linear relationship by curvefitting.\n",
    "for any sample i we have...\n",
    "$C_{i}^{Hb} = Abs_{i}*\\frac{C_{curve}}{Abs_{curve}}$"
   ]
  },
  {
   "cell_type": "code",
   "execution_count": 2,
   "metadata": {
    "collapsed": false
   },
   "outputs": [
    {
     "name": "stdout",
     "output_type": "stream",
     "text": [
      "for a concentration of 0.0mg/L Hb, avg absorbance=0.0\n",
      "for a concentration of 4.0mg/L Hb, avg absorbance=0.70425\n",
      "for a concentration of 8.0mg/L Hb, avg absorbance=1.4335\n",
      "for a concentration of 12.0mg/L Hb, avg absorbance=2.1675\n",
      "for a concentration of 16.0mg/L Hb, avg absorbance=2.91275\n",
      "for a concentration of 20.0mg/L Hb, avg absorbance=3.66725\n"
     ]
    }
   ],
   "source": [
    "import numpy as np\n",
    "#determine average absorbance \n",
    "abs_curve=[ [0    ,0    ,0    ,0],\n",
    "            [0.738,0.665,0.714,0.7],\n",
    "            [1.487,1.436,1.377,1.434],\n",
    "            [2.194,2.162,2.128,2.186],\n",
    "            [2.935,2.9  ,2.914,2.902],\n",
    "            [3.669,3.67 ,3.678,3.652]]\n",
    "abs_curve_avg=[np.average(row) for row in abs_curve]\n",
    "for i in range(len(abs_curve_avg)):\n",
    "    print('for a concentration of {}mg/L Hb, avg absorbance={}'.format(c_hb_curve[i],abs_curve_avg[i]))\n"
   ]
  },
  {
   "cell_type": "code",
   "execution_count": 3,
   "metadata": {
    "collapsed": false
   },
   "outputs": [
    {
     "name": "stdout",
     "output_type": "stream",
     "text": [
      "here is the original list\n",
      "0.00   |  0.00 \n",
      "here is the original list\n",
      "4.00   |  0.70 \n",
      "here is the original list\n",
      "8.00   |  1.43 \n",
      "here is the original list\n",
      "12.00   |  2.17 \n",
      "here is the original list\n",
      "16.00   |  2.91 \n",
      "here is the original list\n",
      "20.00   |  3.67 \n",
      "\n",
      "\n",
      "\n",
      "\n",
      "here is the sorted list\n",
      "0.00   |  0.00 \n",
      "here is the sorted list\n",
      "4.00   |  0.70 \n",
      "here is the sorted list\n",
      "8.00   |  1.43 \n",
      "here is the sorted list\n",
      "12.00   |  2.17 \n",
      "here is the sorted list\n",
      "16.00   |  2.91 \n",
      "here is the sorted list\n",
      "20.00   |  3.67 \n"
     ]
    }
   ],
   "source": [
    "for i in range(len(c_hb_curve)):\n",
    "    print('here is the original list')\n",
    "    print('{:.2f}   |  {:.2f} '.format(c_hb_curve[i],abs_curve_avg[i]))\n",
    "c_hb_curve,abs_curve_avg=(list(c) for c in zip(*sorted(zip(c_hb_curve,abs_curve_avg))))\n",
    "#reference  http://stackoverflow.com/questions/13668393/python-sorting-two-lists\n",
    "print('\\n\\n\\n')\n",
    "for i in range(len(c_hb_curve)):\n",
    "    print('here is the sorted list')\n",
    "    print('{:.2f}   |  {:.2f} '.format(c_hb_curve[i],abs_curve_avg[i]))"
   ]
  },
  {
   "cell_type": "code",
   "execution_count": 4,
   "metadata": {
    "collapsed": false
   },
   "outputs": [
    {
     "data": {
      "image/png": "[encoded data removed]",
      "text/plain": [
       "<matplotlib.figure.Figure at 0x7f78cc079940>"
      ]
     },
     "metadata": {},
     "output_type": "display_data"
    },
    {
     "name": "stdout",
     "output_type": "stream",
     "text": [
      "0.183541071429 -0.0212023809524\n"
     ]
    }
   ],
   "source": [
    "slope,intercept=np.polyfit(c_hb_curve,abs_curve_avg,1)\n",
    "x=c_hb_curve\n",
    "y=[slope*x for x in c_hb_curve]\n",
    "\n",
    "import matplotlib.pyplot as plt\n",
    "plt.plot(x,y)\n",
    "plt.show()\n",
    "print(slope,intercept)\n"
   ]
  },
  {
   "cell_type": "markdown",
   "metadata": {},
   "source": [
    "now we have to force the curvefit\n",
    "**the curvefit doesn't allow me to set y=0 and I don't have access to excel right now so this is the best i can do**"
   ]
  },
  {
   "cell_type": "markdown",
   "metadata": {},
   "source": [
    "# Problem 2"
   ]
  },
  {
   "cell_type": "code",
   "execution_count": 8,
   "metadata": {
    "collapsed": false
   },
   "outputs": [
    {
     "name": "stdout",
     "output_type": "stream",
     "text": [
      "[3, 3.0, 3.0, 3.0, 3.0, 3]\n",
      "for Prob2 Sample 0 Ci of Hb is 0.0 mg/ml\n",
      "for Prob2 Sample 1 Ci of Hb is 4.0 mg/ml\n",
      "for Prob2 Sample 2 Ci of Hb is 8.0 mg/ml\n",
      "for Prob2 Sample 3 Ci of Hb is 12.0 mg/ml\n",
      "for Prob2 Sample 4 Ci of Hb is 16.0 mg/ml\n",
      "for Prob2 Sample 5 Ci of Hb is 20.0 mg/ml\n"
     ]
    }
   ],
   "source": [
    "v_hb2=[     0,  0.6,  1.2,  1.8,  2.4, 3] #ml\n",
    "v_buffer2=[ 3,  2.4,  1.8,  1.2,  0.6, 0]#ml\n",
    "v_total2=[ s+b for s,b in zip(v_hb2,v_buffer2)]\n",
    "print(v_total2)\n",
    "c_stock2=20 #[mg/L]\n",
    "molarity_buffer2=1 #mol/L\n",
    "MW_buffer2=157.594 #g/mol\n",
    "c_buffer2=MW_buffer2*molarity_buffer2\n",
    "c_hb_i2=[]\n",
    "sampleid2=[]\n",
    "for i in range(len(v_hb2)):\n",
    "    sampleid2.append('Prob2 Sample {}'.format(i))\n",
    "    c_hb_i2.append(v_hb2[i]*c_stock2/(v_buffer2[i]+v_hb2[i]))\n",
    "    print('for {} Ci of Hb is {} mg/ml'.format(sampleid2[i],c_hb_i2[i]))  "
   ]
  },
  {
   "cell_type": "code",
   "execution_count": 12,
   "metadata": {
    "collapsed": false
   },
   "outputs": [
    {
     "name": "stdout",
     "output_type": "stream",
     "text": [
      "with Beer's Law can use the slope equation to determine concentration \n",
      "\n",
      "of the protein once it has reached equilibrium w.resin\n",
      "for Prob2 Sample 0 Cf of Hb is 0.0 mg/mL\n"
     ]
    },
    {
     "ename": "IndexError",
     "evalue": "list index out of range",
     "output_type": "error",
     "traceback": [
      "\u001b[0;31m---------------------------------------------------------------------------\u001b[0m",
      "\u001b[0;31mIndexError\u001b[0m                                Traceback (most recent call last)",
      "\u001b[0;32m<ipython-input-12-1bea406b45ca>\u001b[0m in \u001b[0;36m<module>\u001b[0;34m()\u001b[0m\n\u001b[1;32m      9\u001b[0m     \u001b[0mc_hb_f2\u001b[0m\u001b[0;34m.\u001b[0m\u001b[0mappend\u001b[0m\u001b[0;34m(\u001b[0m\u001b[0mslope\u001b[0m\u001b[0;34m*\u001b[0m\u001b[0mabs_f2\u001b[0m\u001b[0;34m[\u001b[0m\u001b[0mi\u001b[0m\u001b[0;34m]\u001b[0m\u001b[0;34m)\u001b[0m\u001b[0;34m\u001b[0m\u001b[0m\n\u001b[1;32m     10\u001b[0m     \u001b[0mprint\u001b[0m\u001b[0;34m(\u001b[0m\u001b[0;34m'for {} Cf of Hb is {} mg/mL'\u001b[0m\u001b[0;34m.\u001b[0m\u001b[0mformat\u001b[0m\u001b[0;34m(\u001b[0m\u001b[0msampleid2\u001b[0m\u001b[0;34m[\u001b[0m\u001b[0mi\u001b[0m\u001b[0;34m]\u001b[0m\u001b[0;34m,\u001b[0m\u001b[0mc_hb_f2\u001b[0m\u001b[0;34m[\u001b[0m\u001b[0mi\u001b[0m\u001b[0;34m]\u001b[0m\u001b[0;34m)\u001b[0m\u001b[0;34m)\u001b[0m\u001b[0;34m\u001b[0m\u001b[0m\n\u001b[0;32m---> 11\u001b[0;31m     \u001b[0mdc_hb2\u001b[0m\u001b[0;34m.\u001b[0m\u001b[0mappend\u001b[0m\u001b[0;34m(\u001b[0m\u001b[0mc_hb_i2\u001b[0m\u001b[0;34m[\u001b[0m\u001b[0mi\u001b[0m\u001b[0;34m]\u001b[0m\u001b[0;34m-\u001b[0m\u001b[0mc_hb_f\u001b[0m\u001b[0;34m[\u001b[0m\u001b[0mi\u001b[0m\u001b[0;34m]\u001b[0m\u001b[0;34m)\u001b[0m\u001b[0;34m\u001b[0m\u001b[0m\n\u001b[0m",
      "\u001b[0;31mIndexError\u001b[0m: list index out of range"
     ]
    }
   ],
   "source": [
    "import numpy as np\n",
    "#determine average absorbance \n",
    "abs_f2=[0,0.504,1.076,1.615,2.242,2.836]\n",
    "print('''with Beer's Law can use the slope equation to determine concentration \n",
    "\\nof the protein once it has reached equilibrium w.resin''')\n",
    "c_hb_f=[]\n",
    "dc_hb2=[]\n",
    "for i in range(len(abs_f2)):\n",
    "    c_hb_f2.append(slope*abs_f2[i])\n",
    "    print('for {} Cf of Hb is {} mg/mL'.format(sampleid2[i],c_hb_f2[i]))\n",
    "    dc_hb2.append(c_hb_i2[i]-c_hb_f[i])"
   ]
  },
  {
   "cell_type": "markdown",
   "metadata": {},
   "source": [
    "# Problem 3\n",
    "Starting with Beer's law we get the fit    \n",
    "    $$ \\frac{C_{sample i}} {A_{sample i}} = \\frac{C_{c fit}} {A_{c fit}}$$\n",
    "therefore to get the actual concentration based on the absorbance we can use\n",
    "    $$ C_{sample i} =  A_{sample i}* \\frac{C_{c fit}} {A_{c fit}}$$\n"
   ]
  },
  {
   "cell_type": "markdown",
   "metadata": {},
   "source": [
    "Now we can go back and double check out answer and we should have the same slope as before"
   ]
  },
  {
   "cell_type": "code",
   "execution_count": null,
   "metadata": {
    "collapsed": false
   },
   "outputs": [],
   "source": [
    "slope2,intercept2=np.polyfit(abs_f2,c_hb_f2,1)\n",
    "\n",
    "x=abs_f2\n",
    "y=c_hb_f2\n",
    "import matplotlib.pyplot as plt\n",
    "plt.plot(x,y)\n",
    "plt.show()\n",
    "print(slope2,intercept2)"
   ]
  },
  {
   "cell_type": "markdown",
   "metadata": {},
   "source": [
    "slope is almost identical=>pass\n",
    "\n",
    "also,as stated above the y-intercept is just error, and is approximately 0."
   ]
  },
  {
   "cell_type": "code",
   "execution_count": null,
   "metadata": {
    "collapsed": false
   },
   "outputs": [],
   "source": [
    "dC2=[]\n",
    "print('Protein Concentration Drop due to adsorbance')\n",
    "for i in range(len(c_hb_f2)):\n",
    "    dC2.append(c_hb_i2[i]-c_hb_f2[i])\n",
    "    print('{} => dC => {} [mg/mL] Hb '''.format(sampleid2[i],dC2[i]))\n",
    "\n",
    "M_hb_adsorbed=[]\n",
    "print('\\nProtein mass adsorbed by resin per sample')\n",
    "for i in range(len(c_hb_f2)):\n",
    "    #Mabsorbed=(dC[mg/mL])*(Vol[mL])*(1L/1000mL)\n",
    "    M_hb_adsorbed.append(dC2[i]*v_total2[i])\n",
    "    print('{} => M_Hb absobed => {} [mg] Hb'.format(sampleid2[i],M_hb_adsorbed[i]))\n"
   ]
  },
  {
   "cell_type": "markdown",
   "metadata": {},
   "source": [
    "These numbers look realistic, so now we can calculate Q    \n",
    "\n",
    "$Q=\\frac{M_{absorbed}^{Hb}[mg] }{V_{resin}[mg]}$"
   ]
  },
  {
   "cell_type": "code",
   "execution_count": null,
   "metadata": {
    "collapsed": false
   },
   "outputs": [],
   "source": [
    "vres=[0.3,0.3,0.3,0.3,0.3,0.3]#0.3 mL of resin per sample\n",
    "q=[]\n",
    "for i in range(len(dC2)):\n",
    "    q.append(M_hb_adsorbed[i]/vres[i]/100)\n",
    "    print('for sample {} Q = {} [mg Hb/mL Resin]'.format(sampleid2[i],q[i]) )\n",
    "    #C_over_Q2.append(c_hb_out[i]) / q[i]"
   ]
  },
  {
   "cell_type": "code",
   "execution_count": null,
   "metadata": {
    "collapsed": false
   },
   "outputs": [],
   "source": [
    "y=c_hb_f2\n",
    "x=[slope*x for x in c_hb_f2]\n",
    "\n",
    "import matplotlib.pyplot as plt\n",
    "plt.plot(x,y)\n",
    "plt.show()\n",
    "print(slope2,intercept2)"
   ]
  },
  {
   "cell_type": "code",
   "execution_count": null,
   "metadata": {
    "collapsed": false
   },
   "outputs": [],
   "source": [
    "#ref:http://www2.mpia-hd.mpg.de/~robitaille/PY4SCI_SS_2014/_static/15.%20Fitting%20models%20to%20data.html\n",
    "#http://stackoverflow.com/questions/31943169/how-to-fit-non-linear-datas-in-python\n",
    "\n",
    "from scipy.optimize import curve_fit\n",
    "#1 setup the equation\n",
    "\n",
    "def Langmiur(C, Qmax,k):   \n",
    "    return( Qmax*C/(k+C) )\n",
    "x=c_hb_f2\n",
    "y=q\n",
    "Lang_opt, Lang_cov = curve_fit(Langmiur,x,y)\n",
    "print('Here are the curvefit variables from the Langmiur Isotherm\\n{}'.format(Lang_opt))\n",
    "print('here are the residuals from the least squares curve firt\\n{}'.format(Lang_cov))\n",
    "# Performing sum of squares\n",
    "Qmax = Lang_opt[0]\n",
    "k = Lang_opt[1]\n",
    "print('From Langmiur Isotherm \\n\\n     Qmax = {}\\n     k    = {}'.format(round(Qmax,2),round(k,2)))\n",
    "\n"
   ]
  },
  {
   "cell_type": "code",
   "execution_count": 7,
   "metadata": {
    "collapsed": false
   },
   "outputs": [
    {
     "ename": "NameError",
     "evalue": "name 'q' is not defined",
     "output_type": "error",
     "traceback": [
      "\u001b[0;31m---------------------------------------------------------------------------\u001b[0m",
      "\u001b[0;31mNameError\u001b[0m                                 Traceback (most recent call last)",
      "\u001b[0;32m<ipython-input-7-74588855f7e7>\u001b[0m in \u001b[0;36m<module>\u001b[0;34m()\u001b[0m\n\u001b[1;32m      3\u001b[0m \u001b[0;34m\u001b[0m\u001b[0m\n\u001b[1;32m      4\u001b[0m \u001b[0mx\u001b[0m\u001b[0;34m=\u001b[0m\u001b[0mnp\u001b[0m\u001b[0;34m.\u001b[0m\u001b[0marray\u001b[0m\u001b[0;34m(\u001b[0m\u001b[0mc_hb_f2\u001b[0m\u001b[0;34m)\u001b[0m\u001b[0;34m\u001b[0m\u001b[0m\n\u001b[0;32m----> 5\u001b[0;31m \u001b[0my\u001b[0m\u001b[0;34m=\u001b[0m\u001b[0mnp\u001b[0m\u001b[0;34m.\u001b[0m\u001b[0marray\u001b[0m\u001b[0;34m(\u001b[0m\u001b[0mq\u001b[0m\u001b[0;34m)\u001b[0m\u001b[0;34m\u001b[0m\u001b[0m\n\u001b[0m\u001b[1;32m      6\u001b[0m \u001b[0;34m\u001b[0m\u001b[0m\n\u001b[1;32m      7\u001b[0m \u001b[0mFreund_opt\u001b[0m\u001b[0;34m,\u001b[0m \u001b[0mFreund_cov\u001b[0m \u001b[0;34m=\u001b[0m \u001b[0mcurve_fit\u001b[0m\u001b[0;34m(\u001b[0m\u001b[0mFreundlich\u001b[0m\u001b[0;34m,\u001b[0m\u001b[0mx\u001b[0m\u001b[0;34m,\u001b[0m\u001b[0my\u001b[0m\u001b[0;34m)\u001b[0m\u001b[0;34m\u001b[0m\u001b[0m\n",
      "\u001b[0;31mNameError\u001b[0m: name 'q' is not defined"
     ]
    }
   ],
   "source": [
    "def Freundlich(C,k,n):   \n",
    "    return( k*np.power(C,1/n) )\n",
    "\n",
    "x=np.array(c_hb_f2)\n",
    "y=np.array(q)\n",
    "\n",
    "Freund_opt, Freund_cov = curve_fit(Freundlich,x,y)\n",
    "print('Here are the curvefit variables from the Langmiur Isotherm\\n{}'.format(Lang_opt))\n",
    "print('here are the residuals from the least squares curve firt\\n{}'.format(Lang_cov))\n",
    "# Performing sum of squares\n",
    "k = Freund_opt[0]\n",
    "n = Freund_opt[1]\n",
    "print('From Freundlich Isotherm \\n\\n     a = {} [mg Hb absorbed/mL resin]\\n     n    = {}'.format(round(Qmax,2),round(k,2)))\n"
   ]
  },
  {
   "cell_type": "markdown",
   "metadata": {},
   "source": [
    "I wrote n instead for b because that matches the textbook    \n",
    "$Freundlich=>Q=a*C^{1/n}$\n",
    "\n",
    "* given how close they are I would call for more data before making a decision on which one was best\n",
    "* "
   ]
  },
  {
   "cell_type": "code",
   "execution_count": null,
   "metadata": {
    "collapsed": false
   },
   "outputs": [],
   "source": [
    "xp=[]\n",
    "xplinear=[]\n",
    "\n",
    "ypLinear=[]\n",
    "ypLangmiur=[]\n",
    "ypFreundlich=[]\n",
    "\n",
    "\n",
    "for i in range(len(c_hb_f2)):\n",
    "    xp.append(c_hb_f2[i])\n",
    "    xplinear.append(abs_f2[i]*slope)\n",
    "    ypLinear.append(q[i])\n",
    "    ypLangmiur.append(Qmax*xp[i]/(k+xp[i]))\n",
    "    ypFreundlich.append( 1.79*np.power(xp[i],1/n) )\n",
    "\n",
    "import matplotlib.pyplot as plt\n",
    "real,=plt.plot(c_hb_f2,q,'o',label=\"$Real Data$\")\n",
    "#plt.plot(x,y)\n",
    "lin,=plt.plot(xp,ypLinear,label=\"$Linear Fit$\")\n",
    "lang,=plt.plot(xp,ypLangmiur,label=\"$Langmiur Isotherm$\")\n",
    "freu,=plt.plot(xp,ypFreundlich,label=\"$Freundlich Isotherm$\")\n",
    "\n",
    "#time,=plt.plot(Time,label=\"Time Elapsed [kg/s]\")\n",
    "plt.legend(bbox_to_anchor=(0., 1., 1., .102), loc=2,\n",
    "           ncol=2, mode=\"expand\", borderaxespad=0.)\n",
    "#plt.axes.x_label(\"Cf [mg/L]\")\n",
    "#plt.axes.y_label(\"Q [mg Hb/mL Resin]\")\n",
    "plt.show()\n",
    "print(slope2,intercept2)"
   ]
  },
  {
   "cell_type": "markdown",
   "metadata": {},
   "source": [
    "The linear fit is the best for this dataset"
   ]
  }
 ],
 "metadata": {
  "anaconda-cloud": {},
  "kernelspec": {
   "display_name": "Python [conda env:liquidsteam]",
   "language": "python",
   "name": "conda-env-liquidsteam-py"
  },
  "language_info": {
   "codemirror_mode": {
    "name": "ipython",
    "version": 3
   },
   "file_extension": ".py",
   "mimetype": "text/x-python",
   "name": "python",
   "nbconvert_exporter": "python",
   "pygments_lexer": "ipython3",
   "version": "3.5.2"
  }
 },
 "nbformat": 4,
 "nbformat_minor": 1
}
